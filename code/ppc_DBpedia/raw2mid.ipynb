{
 "cells": [
  {
   "cell_type": "code",
   "execution_count": 1,
   "id": "rising-reminder",
   "metadata": {},
   "outputs": [],
   "source": [
    "import pandas as pd\n",
    "import numpy as np\n",
    "import pickle\n",
    "import pdb"
   ]
  },
  {
   "cell_type": "code",
   "execution_count": 2,
   "id": "sexual-prospect",
   "metadata": {},
   "outputs": [],
   "source": [
    "def transductor(ot_data):\n",
    "    ret = []\n",
    "    ot_h = set(ot_data['h'].unique().tolist())\n",
    "    ot_t = set(ot_data['t'].unique().tolist())\n",
    "    ot_bridge = ot_h & ot_t\n",
    "    ot_dict = ot_data.groupby('h')['t'].apply(lambda x: x.tolist()).to_dict()\n",
    "    ot_data_list = ot_data.values.tolist()\n",
    "    for h, t in ot_data_list:\n",
    "        ret.append([h, t])\n",
    "        if t in ot_bridge:\n",
    "            for tt in ot_dict[t]:\n",
    "                ret.append([h, tt])\n",
    "    return pd.DataFrame(ret, columns=['h', 't']).drop_duplicates()\n",
    "\n",
    "def transductor_master(ot_data):\n",
    "    mid = transductor(ot_data)\n",
    "    length = len(mid)\n",
    "    for i in range(10):\n",
    "        mid = transductor(mid)\n",
    "        if len(mid) != length:\n",
    "            length = len(mid)\n",
    "        else:\n",
    "            return mid\n",
    "        \n",
    "def read_ot():\n",
    "    ot_data = []\n",
    "    with open('../../data/DBpedia/raw/dbpedia_2016-10.nt') as f:\n",
    "        for line in f:\n",
    "            line = line.split(' ')[:3]\n",
    "            if 'subClassOf' in line[1]:\n",
    "                ot_data.append([line[0], line[2]])\n",
    "    ot_data = pd.DataFrame(ot_data, columns=['h', 't'])\n",
    "    ot_data = transductor_master(ot_data).reset_index(drop=True)\n",
    "    return ot_data"
   ]
  },
  {
   "cell_type": "code",
   "execution_count": 3,
   "id": "equipped-stylus",
   "metadata": {},
   "outputs": [],
   "source": [
    "def read_is():\n",
    "    is_data = []\n",
    "    with open('../../data/DBpedia/raw/instance_types_transitive_wkd_uris_en.ttl') as f:\n",
    "        for line in f:\n",
    "            line = line.split(' ')[:3]\n",
    "            if 'type' in line[1]:\n",
    "                is_data.append(line)\n",
    "    is_data = pd.DataFrame(is_data, columns=['h', 'r', 't'])\n",
    "    return is_data.drop_duplicates()"
   ]
  },
  {
   "cell_type": "code",
   "execution_count": 4,
   "id": "graduate-alcohol",
   "metadata": {},
   "outputs": [],
   "source": [
    "def read_kg():\n",
    "    kg_data = []\n",
    "    with open('../../data/DBpedia/raw/mappingbased_objects_wkd_uris_en.ttl') as f:\n",
    "        for line in f:\n",
    "            line = line.split(' ')[:3]\n",
    "            if 'type' not in line[1] and 'homepage' not in line[1] and line[0] != '#':\n",
    "                kg_data.append(line)\n",
    "    kg_data = pd.DataFrame(kg_data, columns=['h', 'r', 't'])\n",
    "    return kg_data.drop_duplicates()"
   ]
  },
  {
   "cell_type": "code",
   "execution_count": 5,
   "id": "hearing-offense",
   "metadata": {},
   "outputs": [],
   "source": [
    "kg_data = read_kg()\n",
    "is_data = read_is()\n",
    "ot_data = read_ot()"
   ]
  },
  {
   "cell_type": "code",
   "execution_count": 6,
   "id": "threatened-decrease",
   "metadata": {},
   "outputs": [],
   "source": [
    "es = set(kg_data['h'].unique()) | set(kg_data['t'].unique()) | set(is_data['h'].unique())\n",
    "cs = set(ot_data['h'].unique()) | set(ot_data['t'].unique()) | set(is_data['t'].unique())"
   ]
  },
  {
   "cell_type": "code",
   "execution_count": 12,
   "id": "periodic-somerset",
   "metadata": {},
   "outputs": [],
   "source": [
    "def entity_filter(kg_data, is_data, k):\n",
    "    entity_frequency = pd.concat([kg_data['h'], kg_data['t']]).value_counts()\n",
    "    entity_frequency = entity_frequency.reset_index()\n",
    "    entity_frequency.columns = ['e', 'count']\n",
    "    valid_entities = entity_frequency[entity_frequency['count'] >= k]['e']\n",
    "    kg_data = kg_data[kg_data['h'].isin(valid_entities) & kg_data['t'].isin(valid_entities)]\n",
    "    is_data = is_data[is_data['h'].isin(valid_entities)]\n",
    "    return valid_entities, kg_data.reset_index(drop=True), is_data"
   ]
  },
  {
   "cell_type": "code",
   "execution_count": 13,
   "id": "reliable-saver",
   "metadata": {},
   "outputs": [],
   "source": [
    "valid_entities, kg_data, is_data = entity_filter(kg_data, is_data, k=50)"
   ]
  },
  {
   "cell_type": "code",
   "execution_count": 18,
   "id": "dental-reward",
   "metadata": {},
   "outputs": [],
   "source": [
    "def is_transductor(is_data, ot_data):\n",
    "    ret = []\n",
    "    ot_dict = ot_data.groupby('h')['t'].apply(lambda x: x.tolist()).to_dict()\n",
    "    for h, r, t in is_data.values.tolist():\n",
    "        ret.append([h, r, t])\n",
    "        try: \n",
    "            tts = ot_dict[t] \n",
    "        except:\n",
    "            tts = None\n",
    "        if tts != None:\n",
    "            for tt in tts:\n",
    "                ret.append([h, r, tt])\n",
    "    ret = pd.DataFrame(ret, columns=['h', 'r', 't'])\n",
    "    return ret.drop_duplicates()[['h', 't']].reset_index(drop=True)"
   ]
  },
  {
   "cell_type": "code",
   "execution_count": 19,
   "id": "aquatic-animation",
   "metadata": {},
   "outputs": [],
   "source": [
    "is_data = is_transductor(is_data, ot_data)"
   ]
  },
  {
   "cell_type": "code",
   "execution_count": 26,
   "id": "dominant-steam",
   "metadata": {},
   "outputs": [],
   "source": [
    "def save_obj(obj, path):\n",
    "    with open(path, 'wb') as f:\n",
    "        pickle.dump(obj, f, pickle.HIGHEST_PROTOCOL)\n",
    "\n",
    "def load_obj(path):\n",
    "    with open(path, 'rb') as f:\n",
    "        return pickle.load(f)"
   ]
  },
  {
   "cell_type": "code",
   "execution_count": 23,
   "id": "going-sullivan",
   "metadata": {},
   "outputs": [],
   "source": [
    "save_root = '../../data/DBpedia/mid/'\n",
    "kg_data.to_csv(save_root + 'kg_data_all.csv')\n",
    "ot_data.to_csv(save_root + 'ot.csv')\n",
    "is_data.to_csv(save_root + 'is_data_all.csv')\n",
    "valid_entities.to_csv(save_root + 'e.csv')"
   ]
  },
  {
   "cell_type": "code",
   "execution_count": 24,
   "id": "miniature-freeze",
   "metadata": {},
   "outputs": [
    {
     "name": "stdout",
     "output_type": "stream",
     "text": [
      "Done reading data.\n",
      "Done splitting data.\n",
      "Done getting mapper.\n"
     ]
    }
   ],
   "source": [
    "def split(data, train_ratio=0.95):\n",
    "    mask = np.random.rand(len(data)) < train_ratio\n",
    "    train = data[mask].reset_index(drop=True)\n",
    "    return train\n",
    "kg_data_all = kg_data\n",
    "is_data_all = is_data\n",
    "ot_data = ot_data\n",
    "print('Done reading data.')\n",
    "kg_data_train = split(kg_data_all)\n",
    "is_data_train = split(is_data_all)\n",
    "kg_data_train.to_csv(save_root + 'kg_data_train.csv')\n",
    "is_data_train.to_csv(save_root + 'is_data_train.csv')\n",
    "print('Done splitting data.')\n",
    "kg_dict_all = kg_data_all.groupby(['h', 'r'])['t'].apply(lambda x: x.tolist()).to_dict()\n",
    "is_dict_all = is_data_all.groupby('h')['t'].apply(lambda x: x.tolist()).to_dict()\n",
    "kg_dict_train = kg_data_train.groupby(['h', 'r'])['t'].apply(lambda x: x.tolist()).to_dict()\n",
    "is_dict_train = is_data_train.groupby('h')['t'].apply(lambda x: x.tolist()).to_dict()\n",
    "print('Done getting mapper.')"
   ]
  },
  {
   "cell_type": "code",
   "execution_count": 27,
   "id": "incorporate-photograph",
   "metadata": {},
   "outputs": [],
   "source": [
    "save_obj(kg_dict_all, save_root + 'kg_dict_all.pkl')\n",
    "save_obj(is_dict_all, save_root + 'is_dict_all.pkl')\n",
    "save_obj(kg_dict_train, save_root + 'kg_dict_train.pkl')\n",
    "save_obj(is_dict_train, save_root + 'is_dict_train.pkl')"
   ]
  },
  {
   "cell_type": "code",
   "execution_count": null,
   "id": "little-gallery",
   "metadata": {},
   "outputs": [],
   "source": []
  }
 ],
 "metadata": {
  "kernelspec": {
   "display_name": "Python 3",
   "language": "python",
   "name": "python3"
  },
  "language_info": {
   "codemirror_mode": {
    "name": "ipython",
    "version": 3
   },
   "file_extension": ".py",
   "mimetype": "text/x-python",
   "name": "python",
   "nbconvert_exporter": "python",
   "pygments_lexer": "ipython3",
   "version": "3.8.5"
  }
 },
 "nbformat": 4,
 "nbformat_minor": 5
}
