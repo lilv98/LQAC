{
 "cells": [
  {
   "cell_type": "code",
   "execution_count": 1,
   "id": "33dda4b2",
   "metadata": {},
   "outputs": [],
   "source": [
    "import pandas as pd\n",
    "import numpy as np\n",
    "import pickle\n",
    "import pdb"
   ]
  },
  {
   "cell_type": "code",
   "execution_count": 2,
   "id": "2458e256",
   "metadata": {},
   "outputs": [],
   "source": [
    "def read_kg(root):\n",
    "    ret = []\n",
    "    kg_path = root + 'yago-wd-facts.nt'\n",
    "    with open(kg_path) as f:\n",
    "        for line in f:\n",
    "            line = line.split('\\t')[:3]\n",
    "            ret.append(line)\n",
    "    ret = pd.DataFrame(ret, columns=['h', 'r', 't'])\n",
    "    return ret.drop_duplicates()"
   ]
  },
  {
   "cell_type": "code",
   "execution_count": 3,
   "id": "78b0cb72",
   "metadata": {},
   "outputs": [],
   "source": [
    "def transductor(ot_data):\n",
    "    ret = []\n",
    "    ot_h = set(ot_data['h'].unique().tolist())\n",
    "    ot_t = set(ot_data['t'].unique().tolist())\n",
    "    ot_bridge = ot_h & ot_t\n",
    "    ot_dict = ot_data.groupby('h')['t'].apply(lambda x: x.tolist()).to_dict()\n",
    "    ot_data_list = ot_data.values.tolist()\n",
    "    for h, t in ot_data_list:\n",
    "        ret.append([h, t])\n",
    "        if t in ot_bridge:\n",
    "            for tt in ot_dict[t]:\n",
    "                ret.append([h, tt])\n",
    "    return pd.DataFrame(ret, columns=['h', 't']).drop_duplicates()\n",
    "\n",
    "def transductor_master(ot_data):\n",
    "    mid = transductor(ot_data)\n",
    "    length = len(mid)\n",
    "    for i in range(10):\n",
    "        mid = transductor(mid)\n",
    "        if len(mid) != length:\n",
    "            length = len(mid)\n",
    "        else:\n",
    "            return mid\n",
    "        \n",
    "def read_ot(root):\n",
    "    ret = []\n",
    "    ot_path = root + 'yago-wd-class.nt'\n",
    "    with open(ot_path) as f:\n",
    "        for line in f:\n",
    "            line = line.split('\\t')[:3]\n",
    "            ret.append(line)\n",
    "    ret = pd.DataFrame(ret, columns=['h', 'r', 't'])\n",
    "    ret = ret[ret['r'] == '<http://www.w3.org/2000/01/rdf-schema#subClassOf>'][['h', 't']]\n",
    "    return transductor_master(ret).reset_index(drop=True)"
   ]
  },
  {
   "cell_type": "code",
   "execution_count": 4,
   "id": "0a4297f7",
   "metadata": {},
   "outputs": [],
   "source": [
    "def read_is(root):\n",
    "    ret = []\n",
    "    is_full_path = root + 'yago-wd-full-types.nt'\n",
    "    is_simple_path = root + 'yago-wd-simple-types.nt'\n",
    "    with open(is_full_path) as f:\n",
    "        for line in f:\n",
    "            line = line.split('\\t')[:3]\n",
    "            ret.append(line)\n",
    "    with open(is_simple_path) as f:\n",
    "        for line in f:\n",
    "            line = line.split('\\t')[:3]\n",
    "            ret.append(line)\n",
    "    ret = pd.DataFrame(ret, columns=['h', 'r', 't'])\n",
    "    return ret.drop_duplicates()"
   ]
  },
  {
   "cell_type": "code",
   "execution_count": 5,
   "id": "0d1bb180",
   "metadata": {},
   "outputs": [],
   "source": [
    "def entity_filter(kg_data, is_data, k):\n",
    "    entity_frequency = pd.concat([kg_data['h'], kg_data['t']]).value_counts()\n",
    "    entity_frequency = entity_frequency.reset_index()\n",
    "    entity_frequency.columns = ['e', 'count']\n",
    "    valid_entities = entity_frequency[entity_frequency['count'] >= k]['e']\n",
    "    kg_data = kg_data[kg_data['h'].isin(valid_entities) & kg_data['t'].isin(valid_entities)]\n",
    "    is_data = is_data[is_data['h'].isin(valid_entities)]\n",
    "    return valid_entities, kg_data.reset_index(drop=True), is_data"
   ]
  },
  {
   "cell_type": "code",
   "execution_count": 6,
   "id": "74cf5941",
   "metadata": {},
   "outputs": [],
   "source": [
    "def is_transductor(is_data, ot_data):\n",
    "    ret = []\n",
    "    ot_dict = ot_data.groupby('h')['t'].apply(lambda x: x.tolist()).to_dict()\n",
    "    for h, r, t in is_data.values.tolist():\n",
    "        ret.append([h, r, t])\n",
    "        try: \n",
    "            tts = ot_dict[t] \n",
    "        except:\n",
    "            tts = None\n",
    "        if tts != None:\n",
    "            for tt in tts:\n",
    "                ret.append([h, r, tt])\n",
    "    ret = pd.DataFrame(ret, columns=['h', 'r', 't'])\n",
    "    return ret.drop_duplicates()[['h', 't']].reset_index(drop=True)"
   ]
  },
  {
   "cell_type": "code",
   "execution_count": 7,
   "id": "fddb0454",
   "metadata": {},
   "outputs": [],
   "source": [
    "root = '../../data/DBpedia/raw/'\n",
    "kg_data = read_kg(root)\n",
    "ot_data = read_ot(root)\n",
    "is_data = read_is(root)"
   ]
  },
  {
   "cell_type": "code",
   "execution_count": 8,
   "id": "expanded-costume",
   "metadata": {},
   "outputs": [],
   "source": [
    "kg_data = kg_data[~kg_data['r'].str.contains('type')]\n",
    "kg_data = kg_data[~kg_data['r'].str.contains('unitCode')]\n",
    "ot_data = ot_data[ot_data['t'] != '<http://schema.org/Thing>']\n",
    "is_data = is_data[is_data['t'] != '<http://schema.org/Thing>']"
   ]
  },
  {
   "cell_type": "code",
   "execution_count": 9,
   "id": "intermediate-disney",
   "metadata": {},
   "outputs": [],
   "source": [
    "valid_entities, kg_data, is_data = entity_filter(kg_data, is_data, k=50)"
   ]
  },
  {
   "cell_type": "code",
   "execution_count": 10,
   "id": "protected-peoples",
   "metadata": {},
   "outputs": [],
   "source": [
    "is_data = is_transductor(is_data, ot_data)"
   ]
  },
  {
   "cell_type": "code",
   "execution_count": 11,
   "id": "chronic-pavilion",
   "metadata": {},
   "outputs": [],
   "source": [
    "def save_obj(obj, path):\n",
    "    with open(path, 'wb') as f:\n",
    "        pickle.dump(obj, f, pickle.HIGHEST_PROTOCOL)\n",
    "\n",
    "def load_obj(path):\n",
    "    with open(path, 'rb') as f:\n",
    "        return pickle.load(f)"
   ]
  },
  {
   "cell_type": "code",
   "execution_count": 12,
   "id": "9932d0f4",
   "metadata": {},
   "outputs": [],
   "source": [
    "save_root = '../../data/DBpedia/mid/'\n",
    "kg_data.to_csv(save_root + 'kg_data_all.csv')\n",
    "ot_data.to_csv(save_root + 'ot.csv')\n",
    "is_data.to_csv(save_root + 'is_data_all.csv')\n",
    "valid_entities.to_csv(save_root + 'e.csv')"
   ]
  },
  {
   "cell_type": "code",
   "execution_count": 13,
   "id": "peaceful-progress",
   "metadata": {},
   "outputs": [],
   "source": [
    "def split(data, train_ratio=0.95):\n",
    "    mask = np.random.rand(len(data)) < train_ratio\n",
    "    train = data[mask].reset_index(drop=True)\n",
    "    return train"
   ]
  },
  {
   "cell_type": "code",
   "execution_count": 14,
   "id": "acc5fef5",
   "metadata": {},
   "outputs": [
    {
     "name": "stdout",
     "output_type": "stream",
     "text": [
      "Done reading data.\n",
      "Done splitting data.\n",
      "Done getting mapper.\n"
     ]
    }
   ],
   "source": [
    "kg_data_all = kg_data\n",
    "is_data_all = is_data\n",
    "ot_data = ot_data\n",
    "print('Done reading data.')\n",
    "kg_data_train = split(kg_data_all)\n",
    "is_data_train = split(is_data_all)\n",
    "kg_data_train.to_csv(save_root + 'kg_data_train.csv')\n",
    "is_data_train.to_csv(save_root + 'is_data_train.csv')\n",
    "print('Done splitting data.')\n",
    "kg_dict_all = kg_data_all.groupby(['h', 'r'])['t'].apply(lambda x: x.tolist()).to_dict()\n",
    "is_dict_all = is_data_all.groupby('h')['t'].apply(lambda x: x.tolist()).to_dict()\n",
    "kg_dict_train = kg_data_train.groupby(['h', 'r'])['t'].apply(lambda x: x.tolist()).to_dict()\n",
    "is_dict_train = is_data_train.groupby('h')['t'].apply(lambda x: x.tolist()).to_dict()\n",
    "print('Done getting mapper.')"
   ]
  },
  {
   "cell_type": "code",
   "execution_count": 15,
   "id": "following-brief",
   "metadata": {},
   "outputs": [],
   "source": [
    "save_obj(kg_dict_all, save_root + 'kg_dict_all.pkl')\n",
    "save_obj(is_dict_all, save_root + 'is_dict_all.pkl')\n",
    "save_obj(kg_dict_train, save_root + 'kg_dict_train.pkl')\n",
    "save_obj(is_dict_train, save_root + 'is_dict_train.pkl')"
   ]
  }
 ],
 "metadata": {
  "kernelspec": {
   "display_name": "Python 3",
   "language": "python",
   "name": "python3"
  },
  "language_info": {
   "codemirror_mode": {
    "name": "ipython",
    "version": 3
   },
   "file_extension": ".py",
   "mimetype": "text/x-python",
   "name": "python",
   "nbconvert_exporter": "python",
   "pygments_lexer": "ipython3",
   "version": "3.8.5"
  }
 },
 "nbformat": 4,
 "nbformat_minor": 5
}
